{
 "cells": [
  {
   "cell_type": "code",
   "execution_count": 1,
   "id": "38fac2a7",
   "metadata": {},
   "outputs": [
    {
     "name": "stdout",
     "output_type": "stream",
     "text": [
      "✅ Đã giải nén /home/ubuntu/vnet/ChipAI/nthu-route/nthuRoute3.tar.gz vào thư mục /home/ubuntu/vnet/ChipAI/nthu-route\n"
     ]
    }
   ],
   "source": [
    "import tarfile\n",
    "import os\n",
    "\n",
    "# Đường dẫn đến file .tar.gz (đặt đúng tên file của bạn)\n",
    "tar_path = \"/home/ubuntu/vnet/ChipAI/nthu-route/nthuRoute3.tar.gz\"\n",
    "\n",
    "# Thư mục đích để giải nén\n",
    "extract_dir = \"/home/ubuntu/vnet/ChipAI/nthu-route\"\n",
    "\n",
    "# Tạo thư mục nếu chưa có\n",
    "os.makedirs(extract_dir, exist_ok=True)\n",
    "\n",
    "# Giải nén file\n",
    "with tarfile.open(tar_path, \"r:gz\") as tar:\n",
    "    tar.extractall(path=extract_dir)\n",
    "    print(f\"✅ Đã giải nén {tar_path} vào thư mục {extract_dir}\")\n"
   ]
  },
  {
   "cell_type": "code",
   "execution_count": null,
   "id": "7386d2d4",
   "metadata": {},
   "outputs": [],
   "source": [
    "!./NthuRoute --input=/home/ubuntu/vnet/ChipAI/nthu-route/adaptec1.capo70.3d.35.50.90.gr --output=output --p2-max-iteration=150 --p2-init-box-size=25 --p2-box-expand-size=1 --overflow-threshold=00 --p3-max-iteration=20 --p3-init-box-size=10 --p3-box-expand-size=15 --monotonic-routing=0"
   ]
  }
 ],
 "metadata": {
  "kernelspec": {
   "display_name": "env1",
   "language": "python",
   "name": "python3"
  },
  "language_info": {
   "codemirror_mode": {
    "name": "ipython",
    "version": 3
   },
   "file_extension": ".py",
   "mimetype": "text/x-python",
   "name": "python",
   "nbconvert_exporter": "python",
   "pygments_lexer": "ipython3",
   "version": "3.9.23"
  }
 },
 "nbformat": 4,
 "nbformat_minor": 5
}
